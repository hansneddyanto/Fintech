{
  "nbformat": 4,
  "nbformat_minor": 0,
  "metadata": {
    "colab": {
      "name": "Fintech_sentiment_analysis.ipynb",
      "provenance": [],
      "authorship_tag": "ABX9TyNmfMEE6FpT0Dcd+y2iGW/4",
      "include_colab_link": true
    },
    "kernelspec": {
      "name": "python3",
      "display_name": "Python 3"
    },
    "language_info": {
      "name": "python"
    }
  },
  "cells": [
    {
      "cell_type": "markdown",
      "metadata": {
        "id": "view-in-github",
        "colab_type": "text"
      },
      "source": [
        "<a href=\"https://colab.research.google.com/github/hansneddyanto/Fintech/blob/main/Fintech_sentiment_analysis.ipynb\" target=\"_parent\"><img src=\"https://colab.research.google.com/assets/colab-badge.svg\" alt=\"Open In Colab\"/></a>"
      ]
    },
    {
      "cell_type": "code",
      "source": [
        "pip install newsapi-python"
      ],
      "metadata": {
        "colab": {
          "base_uri": "https://localhost:8080/"
        },
        "id": "N40YoWar2Os4",
        "outputId": "b1542fa5-84c7-4cc6-a018-e3d9568357b8"
      },
      "execution_count": null,
      "outputs": [
        {
          "output_type": "stream",
          "name": "stdout",
          "text": [
            "Looking in indexes: https://pypi.org/simple, https://us-python.pkg.dev/colab-wheels/public/simple/\n",
            "Collecting newsapi-python\n",
            "  Downloading newsapi_python-0.2.6-py2.py3-none-any.whl (7.9 kB)\n",
            "Requirement already satisfied: requests<3.0.0 in /usr/local/lib/python3.7/dist-packages (from newsapi-python) (2.23.0)\n",
            "Requirement already satisfied: certifi>=2017.4.17 in /usr/local/lib/python3.7/dist-packages (from requests<3.0.0->newsapi-python) (2022.6.15)\n",
            "Requirement already satisfied: chardet<4,>=3.0.2 in /usr/local/lib/python3.7/dist-packages (from requests<3.0.0->newsapi-python) (3.0.4)\n",
            "Requirement already satisfied: idna<3,>=2.5 in /usr/local/lib/python3.7/dist-packages (from requests<3.0.0->newsapi-python) (2.10)\n",
            "Requirement already satisfied: urllib3!=1.25.0,!=1.25.1,<1.26,>=1.21.1 in /usr/local/lib/python3.7/dist-packages (from requests<3.0.0->newsapi-python) (1.24.3)\n",
            "Installing collected packages: newsapi-python\n",
            "Successfully installed newsapi-python-0.2.6\n"
          ]
        }
      ]
    },
    {
      "cell_type": "code",
      "source": [
        "from newsapi import NewsApiClient\n",
        "import pandas as pd"
      ],
      "metadata": {
        "id": "8u6qt0mV2V_V"
      },
      "execution_count": null,
      "outputs": []
    },
    {
      "cell_type": "code",
      "source": [
        "api = NewsApiClient(api_key='365669e91dce4d7ba87f004635831eec')"
      ],
      "metadata": {
        "id": "mUo0WnUQ2Ynk"
      },
      "execution_count": null,
      "outputs": []
    },
    {
      "cell_type": "code",
      "source": [
        "nasdaq = pd.read_csv(\"nasdaq_screener.csv\")"
      ],
      "metadata": {
        "id": "LONIygdB5M-H"
      },
      "execution_count": null,
      "outputs": []
    },
    {
      "cell_type": "code",
      "source": [
        "nasdaq"
      ],
      "metadata": {
        "colab": {
          "base_uri": "https://localhost:8080/",
          "height": 641
        },
        "id": "XI2NTzsE6J3A",
        "outputId": "b89c526c-e50b-4312-df1f-dce75e4eb6d3"
      },
      "execution_count": null,
      "outputs": [
        {
          "output_type": "execute_result",
          "data": {
            "text/plain": [
              "     Symbol                                               Name Last Sale  \\\n",
              "0         A             Agilent Technologies Inc. Common Stock   $133.55   \n",
              "1        AA                    Alcoa Corporation Common Stock     $52.76   \n",
              "2       AAL          American Airlines Group Inc. Common Stock    $15.25   \n",
              "3      AAON                             AAON Inc. Common Stock    $61.72   \n",
              "4       AAP                            Advance Auto Parts Inc.   $202.53   \n",
              "...     ...                                                ...       ...   \n",
              "1990    ZNH  China Southern Airlines Company Limited Common...    $27.16   \n",
              "1991     ZS                          Zscaler Inc. Common Stock   $182.64   \n",
              "1992    ZTO  ZTO Express (Cayman) Inc. American Depositary ...    $26.00   \n",
              "1993    ZTS                   Zoetis Inc. Class A Common Stock   $175.67   \n",
              "1994    ZWS  Zurn Elkay Water Solutions Corporation Common ...    $31.16   \n",
              "\n",
              "      Net Change % Change    Market Cap        Country  IPO Year    Volume  \\\n",
              "0           1.60   1.213%  3.989246e+10  United States    1999.0    865778   \n",
              "1          -0.51  -0.957%  9.492679e+09            NaN    2016.0   4261157   \n",
              "2           0.26   1.734%  9.910150e+09  United States       NaN  21114761   \n",
              "3           0.67   1.097%  3.275553e+09  United States       NaN    200322   \n",
              "4           5.11   2.588%  1.228138e+10  United States       NaN    530350   \n",
              "...          ...      ...           ...            ...       ...       ...   \n",
              "1990        0.19   0.704%  9.206405e+09          China    1997.0      8733   \n",
              "1991        3.93   2.199%  2.590980e+10  United States    2018.0   1667742   \n",
              "1992       -0.07  -0.269%  2.105306e+10          China    2016.0   1054876   \n",
              "1993        2.49   1.438%  8.267534e+10  United States    2013.0   1185188   \n",
              "1994        0.86   2.838%  5.538589e+09  United States    2012.0    600780   \n",
              "\n",
              "                      Sector                                    Industry  \n",
              "0                Industrials                         Electrical Products  \n",
              "1                Industrials                          Metal Fabrications  \n",
              "2     Consumer Discretionary               Air Freight/Delivery Services  \n",
              "3                Industrials             Industrial Machinery/Components  \n",
              "4     Consumer Discretionary                   Auto & Home Supply Stores  \n",
              "...                      ...                                         ...  \n",
              "1990  Consumer Discretionary               Air Freight/Delivery Services  \n",
              "1991              Technology                                EDP Services  \n",
              "1992  Consumer Discretionary                                 Advertising  \n",
              "1993             Health Care  Biotechnology: Pharmaceutical Preparations  \n",
              "1994               Utilities                      Environmental Services  \n",
              "\n",
              "[1995 rows x 11 columns]"
            ],
            "text/html": [
              "\n",
              "  <div id=\"df-8e4683cc-8214-488e-a81d-0818200ae96c\">\n",
              "    <div class=\"colab-df-container\">\n",
              "      <div>\n",
              "<style scoped>\n",
              "    .dataframe tbody tr th:only-of-type {\n",
              "        vertical-align: middle;\n",
              "    }\n",
              "\n",
              "    .dataframe tbody tr th {\n",
              "        vertical-align: top;\n",
              "    }\n",
              "\n",
              "    .dataframe thead th {\n",
              "        text-align: right;\n",
              "    }\n",
              "</style>\n",
              "<table border=\"1\" class=\"dataframe\">\n",
              "  <thead>\n",
              "    <tr style=\"text-align: right;\">\n",
              "      <th></th>\n",
              "      <th>Symbol</th>\n",
              "      <th>Name</th>\n",
              "      <th>Last Sale</th>\n",
              "      <th>Net Change</th>\n",
              "      <th>% Change</th>\n",
              "      <th>Market Cap</th>\n",
              "      <th>Country</th>\n",
              "      <th>IPO Year</th>\n",
              "      <th>Volume</th>\n",
              "      <th>Sector</th>\n",
              "      <th>Industry</th>\n",
              "    </tr>\n",
              "  </thead>\n",
              "  <tbody>\n",
              "    <tr>\n",
              "      <th>0</th>\n",
              "      <td>A</td>\n",
              "      <td>Agilent Technologies Inc. Common Stock</td>\n",
              "      <td>$133.55</td>\n",
              "      <td>1.60</td>\n",
              "      <td>1.213%</td>\n",
              "      <td>3.989246e+10</td>\n",
              "      <td>United States</td>\n",
              "      <td>1999.0</td>\n",
              "      <td>865778</td>\n",
              "      <td>Industrials</td>\n",
              "      <td>Electrical Products</td>\n",
              "    </tr>\n",
              "    <tr>\n",
              "      <th>1</th>\n",
              "      <td>AA</td>\n",
              "      <td>Alcoa Corporation Common Stock</td>\n",
              "      <td>$52.76</td>\n",
              "      <td>-0.51</td>\n",
              "      <td>-0.957%</td>\n",
              "      <td>9.492679e+09</td>\n",
              "      <td>NaN</td>\n",
              "      <td>2016.0</td>\n",
              "      <td>4261157</td>\n",
              "      <td>Industrials</td>\n",
              "      <td>Metal Fabrications</td>\n",
              "    </tr>\n",
              "    <tr>\n",
              "      <th>2</th>\n",
              "      <td>AAL</td>\n",
              "      <td>American Airlines Group Inc. Common Stock</td>\n",
              "      <td>$15.25</td>\n",
              "      <td>0.26</td>\n",
              "      <td>1.734%</td>\n",
              "      <td>9.910150e+09</td>\n",
              "      <td>United States</td>\n",
              "      <td>NaN</td>\n",
              "      <td>21114761</td>\n",
              "      <td>Consumer Discretionary</td>\n",
              "      <td>Air Freight/Delivery Services</td>\n",
              "    </tr>\n",
              "    <tr>\n",
              "      <th>3</th>\n",
              "      <td>AAON</td>\n",
              "      <td>AAON Inc. Common Stock</td>\n",
              "      <td>$61.72</td>\n",
              "      <td>0.67</td>\n",
              "      <td>1.097%</td>\n",
              "      <td>3.275553e+09</td>\n",
              "      <td>United States</td>\n",
              "      <td>NaN</td>\n",
              "      <td>200322</td>\n",
              "      <td>Industrials</td>\n",
              "      <td>Industrial Machinery/Components</td>\n",
              "    </tr>\n",
              "    <tr>\n",
              "      <th>4</th>\n",
              "      <td>AAP</td>\n",
              "      <td>Advance Auto Parts Inc.</td>\n",
              "      <td>$202.53</td>\n",
              "      <td>5.11</td>\n",
              "      <td>2.588%</td>\n",
              "      <td>1.228138e+10</td>\n",
              "      <td>United States</td>\n",
              "      <td>NaN</td>\n",
              "      <td>530350</td>\n",
              "      <td>Consumer Discretionary</td>\n",
              "      <td>Auto &amp; Home Supply Stores</td>\n",
              "    </tr>\n",
              "    <tr>\n",
              "      <th>...</th>\n",
              "      <td>...</td>\n",
              "      <td>...</td>\n",
              "      <td>...</td>\n",
              "      <td>...</td>\n",
              "      <td>...</td>\n",
              "      <td>...</td>\n",
              "      <td>...</td>\n",
              "      <td>...</td>\n",
              "      <td>...</td>\n",
              "      <td>...</td>\n",
              "      <td>...</td>\n",
              "    </tr>\n",
              "    <tr>\n",
              "      <th>1990</th>\n",
              "      <td>ZNH</td>\n",
              "      <td>China Southern Airlines Company Limited Common...</td>\n",
              "      <td>$27.16</td>\n",
              "      <td>0.19</td>\n",
              "      <td>0.704%</td>\n",
              "      <td>9.206405e+09</td>\n",
              "      <td>China</td>\n",
              "      <td>1997.0</td>\n",
              "      <td>8733</td>\n",
              "      <td>Consumer Discretionary</td>\n",
              "      <td>Air Freight/Delivery Services</td>\n",
              "    </tr>\n",
              "    <tr>\n",
              "      <th>1991</th>\n",
              "      <td>ZS</td>\n",
              "      <td>Zscaler Inc. Common Stock</td>\n",
              "      <td>$182.64</td>\n",
              "      <td>3.93</td>\n",
              "      <td>2.199%</td>\n",
              "      <td>2.590980e+10</td>\n",
              "      <td>United States</td>\n",
              "      <td>2018.0</td>\n",
              "      <td>1667742</td>\n",
              "      <td>Technology</td>\n",
              "      <td>EDP Services</td>\n",
              "    </tr>\n",
              "    <tr>\n",
              "      <th>1992</th>\n",
              "      <td>ZTO</td>\n",
              "      <td>ZTO Express (Cayman) Inc. American Depositary ...</td>\n",
              "      <td>$26.00</td>\n",
              "      <td>-0.07</td>\n",
              "      <td>-0.269%</td>\n",
              "      <td>2.105306e+10</td>\n",
              "      <td>China</td>\n",
              "      <td>2016.0</td>\n",
              "      <td>1054876</td>\n",
              "      <td>Consumer Discretionary</td>\n",
              "      <td>Advertising</td>\n",
              "    </tr>\n",
              "    <tr>\n",
              "      <th>1993</th>\n",
              "      <td>ZTS</td>\n",
              "      <td>Zoetis Inc. Class A Common Stock</td>\n",
              "      <td>$175.67</td>\n",
              "      <td>2.49</td>\n",
              "      <td>1.438%</td>\n",
              "      <td>8.267534e+10</td>\n",
              "      <td>United States</td>\n",
              "      <td>2013.0</td>\n",
              "      <td>1185188</td>\n",
              "      <td>Health Care</td>\n",
              "      <td>Biotechnology: Pharmaceutical Preparations</td>\n",
              "    </tr>\n",
              "    <tr>\n",
              "      <th>1994</th>\n",
              "      <td>ZWS</td>\n",
              "      <td>Zurn Elkay Water Solutions Corporation Common ...</td>\n",
              "      <td>$31.16</td>\n",
              "      <td>0.86</td>\n",
              "      <td>2.838%</td>\n",
              "      <td>5.538589e+09</td>\n",
              "      <td>United States</td>\n",
              "      <td>2012.0</td>\n",
              "      <td>600780</td>\n",
              "      <td>Utilities</td>\n",
              "      <td>Environmental Services</td>\n",
              "    </tr>\n",
              "  </tbody>\n",
              "</table>\n",
              "<p>1995 rows × 11 columns</p>\n",
              "</div>\n",
              "      <button class=\"colab-df-convert\" onclick=\"convertToInteractive('df-8e4683cc-8214-488e-a81d-0818200ae96c')\"\n",
              "              title=\"Convert this dataframe to an interactive table.\"\n",
              "              style=\"display:none;\">\n",
              "        \n",
              "  <svg xmlns=\"http://www.w3.org/2000/svg\" height=\"24px\"viewBox=\"0 0 24 24\"\n",
              "       width=\"24px\">\n",
              "    <path d=\"M0 0h24v24H0V0z\" fill=\"none\"/>\n",
              "    <path d=\"M18.56 5.44l.94 2.06.94-2.06 2.06-.94-2.06-.94-.94-2.06-.94 2.06-2.06.94zm-11 1L8.5 8.5l.94-2.06 2.06-.94-2.06-.94L8.5 2.5l-.94 2.06-2.06.94zm10 10l.94 2.06.94-2.06 2.06-.94-2.06-.94-.94-2.06-.94 2.06-2.06.94z\"/><path d=\"M17.41 7.96l-1.37-1.37c-.4-.4-.92-.59-1.43-.59-.52 0-1.04.2-1.43.59L10.3 9.45l-7.72 7.72c-.78.78-.78 2.05 0 2.83L4 21.41c.39.39.9.59 1.41.59.51 0 1.02-.2 1.41-.59l7.78-7.78 2.81-2.81c.8-.78.8-2.07 0-2.86zM5.41 20L4 18.59l7.72-7.72 1.47 1.35L5.41 20z\"/>\n",
              "  </svg>\n",
              "      </button>\n",
              "      \n",
              "  <style>\n",
              "    .colab-df-container {\n",
              "      display:flex;\n",
              "      flex-wrap:wrap;\n",
              "      gap: 12px;\n",
              "    }\n",
              "\n",
              "    .colab-df-convert {\n",
              "      background-color: #E8F0FE;\n",
              "      border: none;\n",
              "      border-radius: 50%;\n",
              "      cursor: pointer;\n",
              "      display: none;\n",
              "      fill: #1967D2;\n",
              "      height: 32px;\n",
              "      padding: 0 0 0 0;\n",
              "      width: 32px;\n",
              "    }\n",
              "\n",
              "    .colab-df-convert:hover {\n",
              "      background-color: #E2EBFA;\n",
              "      box-shadow: 0px 1px 2px rgba(60, 64, 67, 0.3), 0px 1px 3px 1px rgba(60, 64, 67, 0.15);\n",
              "      fill: #174EA6;\n",
              "    }\n",
              "\n",
              "    [theme=dark] .colab-df-convert {\n",
              "      background-color: #3B4455;\n",
              "      fill: #D2E3FC;\n",
              "    }\n",
              "\n",
              "    [theme=dark] .colab-df-convert:hover {\n",
              "      background-color: #434B5C;\n",
              "      box-shadow: 0px 1px 3px 1px rgba(0, 0, 0, 0.15);\n",
              "      filter: drop-shadow(0px 1px 2px rgba(0, 0, 0, 0.3));\n",
              "      fill: #FFFFFF;\n",
              "    }\n",
              "  </style>\n",
              "\n",
              "      <script>\n",
              "        const buttonEl =\n",
              "          document.querySelector('#df-8e4683cc-8214-488e-a81d-0818200ae96c button.colab-df-convert');\n",
              "        buttonEl.style.display =\n",
              "          google.colab.kernel.accessAllowed ? 'block' : 'none';\n",
              "\n",
              "        async function convertToInteractive(key) {\n",
              "          const element = document.querySelector('#df-8e4683cc-8214-488e-a81d-0818200ae96c');\n",
              "          const dataTable =\n",
              "            await google.colab.kernel.invokeFunction('convertToInteractive',\n",
              "                                                     [key], {});\n",
              "          if (!dataTable) return;\n",
              "\n",
              "          const docLinkHtml = 'Like what you see? Visit the ' +\n",
              "            '<a target=\"_blank\" href=https://colab.research.google.com/notebooks/data_table.ipynb>data table notebook</a>'\n",
              "            + ' to learn more about interactive tables.';\n",
              "          element.innerHTML = '';\n",
              "          dataTable['output_type'] = 'display_data';\n",
              "          await google.colab.output.renderOutput(dataTable, element);\n",
              "          const docLink = document.createElement('div');\n",
              "          docLink.innerHTML = docLinkHtml;\n",
              "          element.appendChild(docLink);\n",
              "        }\n",
              "      </script>\n",
              "    </div>\n",
              "  </div>\n",
              "  "
            ]
          },
          "metadata": {},
          "execution_count": 26
        }
      ]
    },
    {
      "cell_type": "code",
      "source": [
        "nasdaq_name_100 = nasdaq['Name'][0:100]\n",
        "nasdaq_name_100.tolist()\n",
        "nasdaq_name_100"
      ],
      "metadata": {
        "colab": {
          "base_uri": "https://localhost:8080/"
        },
        "id": "Dnm2z35Q6lOY",
        "outputId": "8be92b0d-f92e-44d6-89e0-e0e0bcec1aea"
      },
      "execution_count": null,
      "outputs": [
        {
          "output_type": "execute_result",
          "data": {
            "text/plain": [
              "0                Agilent Technologies Inc. Common Stock\n",
              "1                       Alcoa Corporation Common Stock \n",
              "2             American Airlines Group Inc. Common Stock\n",
              "3                                AAON Inc. Common Stock\n",
              "4                               Advance Auto Parts Inc.\n",
              "                            ...                        \n",
              "95    AMC Entertainment Holdings Inc. Class A Common...\n",
              "96                            Amcor plc Ordinary Shares\n",
              "97             Advanced Micro Devices Inc. Common Stock\n",
              "98                                          AMETEK Inc.\n",
              "99                            Amedisys Inc Common Stock\n",
              "Name: Name, Length: 100, dtype: object"
            ]
          },
          "metadata": {},
          "execution_count": 29
        }
      ]
    },
    {
      "cell_type": "code",
      "source": [
        "for ele in nasdaq_name_100:\n",
        "  api.get_everything(q=ele)"
      ],
      "metadata": {
        "colab": {
          "base_uri": "https://localhost:8080/",
          "height": 322
        },
        "id": "_yp6y23p2eNL",
        "outputId": "6c22fd34-f9a8-4eeb-a21f-63429ced9a76"
      },
      "execution_count": null,
      "outputs": [
        {
          "output_type": "error",
          "ename": "NewsAPIException",
          "evalue": "ignored",
          "traceback": [
            "\u001b[0;31m---------------------------------------------------------------------------\u001b[0m",
            "\u001b[0;31mNewsAPIException\u001b[0m                          Traceback (most recent call last)",
            "\u001b[0;32m<ipython-input-31-a6892017a79a>\u001b[0m in \u001b[0;36m<module>\u001b[0;34m\u001b[0m\n\u001b[1;32m      1\u001b[0m \u001b[0;32mfor\u001b[0m \u001b[0mele\u001b[0m \u001b[0;32min\u001b[0m \u001b[0mnasdaq_name_100\u001b[0m\u001b[0;34m:\u001b[0m\u001b[0;34m\u001b[0m\u001b[0;34m\u001b[0m\u001b[0m\n\u001b[0;32m----> 2\u001b[0;31m   \u001b[0mapi\u001b[0m\u001b[0;34m.\u001b[0m\u001b[0mget_everything\u001b[0m\u001b[0;34m(\u001b[0m\u001b[0mq\u001b[0m\u001b[0;34m=\u001b[0m\u001b[0mele\u001b[0m\u001b[0;34m)\u001b[0m\u001b[0;34m\u001b[0m\u001b[0;34m\u001b[0m\u001b[0m\n\u001b[0m",
            "\u001b[0;32m/usr/local/lib/python3.7/dist-packages/newsapi/newsapi_client.py\u001b[0m in \u001b[0;36mget_everything\u001b[0;34m(self, q, qintitle, sources, domains, exclude_domains, from_param, to, language, sort_by, page, page_size)\u001b[0m\n\u001b[1;32m    324\u001b[0m         \u001b[0;31m# Check Status of Request\u001b[0m\u001b[0;34m\u001b[0m\u001b[0;34m\u001b[0m\u001b[0;34m\u001b[0m\u001b[0m\n\u001b[1;32m    325\u001b[0m         \u001b[0;32mif\u001b[0m \u001b[0mr\u001b[0m\u001b[0;34m.\u001b[0m\u001b[0mstatus_code\u001b[0m \u001b[0;34m!=\u001b[0m \u001b[0mrequests\u001b[0m\u001b[0;34m.\u001b[0m\u001b[0mcodes\u001b[0m\u001b[0;34m.\u001b[0m\u001b[0mok\u001b[0m\u001b[0;34m:\u001b[0m\u001b[0;34m\u001b[0m\u001b[0;34m\u001b[0m\u001b[0m\n\u001b[0;32m--> 326\u001b[0;31m             \u001b[0;32mraise\u001b[0m \u001b[0mNewsAPIException\u001b[0m\u001b[0;34m(\u001b[0m\u001b[0mr\u001b[0m\u001b[0;34m.\u001b[0m\u001b[0mjson\u001b[0m\u001b[0;34m(\u001b[0m\u001b[0;34m)\u001b[0m\u001b[0;34m)\u001b[0m\u001b[0;34m\u001b[0m\u001b[0;34m\u001b[0m\u001b[0m\n\u001b[0m\u001b[1;32m    327\u001b[0m \u001b[0;34m\u001b[0m\u001b[0m\n\u001b[1;32m    328\u001b[0m         \u001b[0;32mreturn\u001b[0m \u001b[0mr\u001b[0m\u001b[0;34m.\u001b[0m\u001b[0mjson\u001b[0m\u001b[0;34m(\u001b[0m\u001b[0;34m)\u001b[0m\u001b[0;34m\u001b[0m\u001b[0;34m\u001b[0m\u001b[0m\n",
            "\u001b[0;31mNewsAPIException\u001b[0m: {'status': 'error', 'code': 'rateLimited', 'message': 'You have made too many requests recently. Developer accounts are limited to 100 requests over a 24 hour period (50 requests available every 12 hours). Please upgrade to a paid plan if you need more requests.'}"
          ]
        }
      ]
    },
    {
      "cell_type": "code",
      "source": [
        "api.get_everything(q='AAPL')"
      ],
      "metadata": {
        "colab": {
          "base_uri": "https://localhost:8080/",
          "height": 304
        },
        "id": "RhYF585v20pN",
        "outputId": "f64a32bc-9601-46e5-9888-0bd381102db5"
      },
      "execution_count": null,
      "outputs": [
        {
          "output_type": "error",
          "ename": "NewsAPIException",
          "evalue": "ignored",
          "traceback": [
            "\u001b[0;31m---------------------------------------------------------------------------\u001b[0m",
            "\u001b[0;31mNewsAPIException\u001b[0m                          Traceback (most recent call last)",
            "\u001b[0;32m<ipython-input-33-d5fbe75c596e>\u001b[0m in \u001b[0;36m<module>\u001b[0;34m\u001b[0m\n\u001b[0;32m----> 1\u001b[0;31m \u001b[0mapi\u001b[0m\u001b[0;34m.\u001b[0m\u001b[0mget_everything\u001b[0m\u001b[0;34m(\u001b[0m\u001b[0mq\u001b[0m\u001b[0;34m=\u001b[0m\u001b[0;34m'AAPL'\u001b[0m\u001b[0;34m)\u001b[0m\u001b[0;34m\u001b[0m\u001b[0;34m\u001b[0m\u001b[0m\n\u001b[0m",
            "\u001b[0;32m/usr/local/lib/python3.7/dist-packages/newsapi/newsapi_client.py\u001b[0m in \u001b[0;36mget_everything\u001b[0;34m(self, q, qintitle, sources, domains, exclude_domains, from_param, to, language, sort_by, page, page_size)\u001b[0m\n\u001b[1;32m    324\u001b[0m         \u001b[0;31m# Check Status of Request\u001b[0m\u001b[0;34m\u001b[0m\u001b[0;34m\u001b[0m\u001b[0;34m\u001b[0m\u001b[0m\n\u001b[1;32m    325\u001b[0m         \u001b[0;32mif\u001b[0m \u001b[0mr\u001b[0m\u001b[0;34m.\u001b[0m\u001b[0mstatus_code\u001b[0m \u001b[0;34m!=\u001b[0m \u001b[0mrequests\u001b[0m\u001b[0;34m.\u001b[0m\u001b[0mcodes\u001b[0m\u001b[0;34m.\u001b[0m\u001b[0mok\u001b[0m\u001b[0;34m:\u001b[0m\u001b[0;34m\u001b[0m\u001b[0;34m\u001b[0m\u001b[0m\n\u001b[0;32m--> 326\u001b[0;31m             \u001b[0;32mraise\u001b[0m \u001b[0mNewsAPIException\u001b[0m\u001b[0;34m(\u001b[0m\u001b[0mr\u001b[0m\u001b[0;34m.\u001b[0m\u001b[0mjson\u001b[0m\u001b[0;34m(\u001b[0m\u001b[0;34m)\u001b[0m\u001b[0;34m)\u001b[0m\u001b[0;34m\u001b[0m\u001b[0;34m\u001b[0m\u001b[0m\n\u001b[0m\u001b[1;32m    327\u001b[0m \u001b[0;34m\u001b[0m\u001b[0m\n\u001b[1;32m    328\u001b[0m         \u001b[0;32mreturn\u001b[0m \u001b[0mr\u001b[0m\u001b[0;34m.\u001b[0m\u001b[0mjson\u001b[0m\u001b[0;34m(\u001b[0m\u001b[0;34m)\u001b[0m\u001b[0;34m\u001b[0m\u001b[0;34m\u001b[0m\u001b[0m\n",
            "\u001b[0;31mNewsAPIException\u001b[0m: {'status': 'error', 'code': 'rateLimited', 'message': 'You have made too many requests recently. Developer accounts are limited to 100 requests over a 24 hour period (50 requests available every 12 hours). Please upgrade to a paid plan if you need more requests.'}"
          ]
        }
      ]
    },
    {
      "cell_type": "code",
      "source": [
        "# /v2/everything\n",
        "all_articles = api.get_everything(q='bitcoin',\n",
        "                                      sources='bbc-news,the-verge',\n",
        "                                      domains='bbc.co.uk,techcrunch.com',\n",
        "                                      from_param='2017-12-01',\n",
        "                                      to='2017-12-12',\n",
        "                                      language='en',\n",
        "                                      sort_by='relevancy',\n",
        "                                      page=2)"
      ],
      "metadata": {
        "id": "3lh2Z9xZBwUl"
      },
      "execution_count": null,
      "outputs": []
    }
  ]
}